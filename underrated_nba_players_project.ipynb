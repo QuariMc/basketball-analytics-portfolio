{
 "cells": [
  {
   "cell_type": "markdown",
   "metadata": {},
   "source": [
    "# 🏀 Underrated NBA Players Analytics Project\n",
    "This project identifies NBA players who may be underrated based on advanced metrics such as Box Plus Minus (BPM), Win Shares (WS), Value Over Replacement Player (VORP), and Usage Rate (USG%).\n",
    "\n",
    "We'll calculate a custom 'Impact Score' to highlight players who contribute more than their usage or visibility suggests."
   ]
  },
  {
   "cell_type": "code",
   "execution_count": null,
   "metadata": {},
   "outputs": [],
   "source": [
    "# 📦 Import libraries\n",
    "import pandas as pd\n",
    "import matplotlib.pyplot as plt\n",
    "import seaborn as sns"
   ]
  },
  {
   "cell_type": "code",
   "execution_count": null,
   "metadata": {},
   "outputs": [],
   "source": [
    "# 📥 Load the data\n",
    "# Replace the file path below with your actual CSV path or URL\n",
    "# Example: data = pd.read_csv('nba_2024_advanced.csv')\n",
    "data = pd.read_csv('nba_2024_advanced_sample.csv')  # Replace with actual file\n",
    "data.head()"
   ]
  },
  {
   "cell_type": "code",
   "execution_count": null,
   "metadata": {},
   "outputs": [],
   "source": [
    "# 🧮 Compute Impact Score\n",
    "data = data.dropna(subset=['BPM', 'WS', 'VORP', 'USG%'])\n",
    "data['Impact Score'] = (data['BPM'] + data['WS'] + data['VORP']) / data['USG%']\n",
    "data_sorted = data.sort_values('Impact Score', ascending=False)\n",
    "data_sorted[['Player', 'BPM', 'WS', 'VORP', 'USG%', 'Impact Score']].head(10)"
   ]
  },
  {
   "cell_type": "code",
   "execution_count": null,
   "metadata": {},
   "outputs": [],
   "source": [
    "# 📊 Plot Top 10 Underrated Players\n",
    "top10 = data_sorted.head(10)\n",
    "plt.figure(figsize=(10,6))\n",
    "sns.barplot(x='Impact Score', y='Player', data=top10, palette='viridis')\n",
    "plt.title('Top 10 Underrated NBA Players (by Impact Score)')\n",
    "plt.xlabel('Impact Score')\n",
    "plt.ylabel('Player')\n",
    "plt.tight_layout()\n",
    "plt.show()"
   ]
  }
 ],
 "metadata": {
  "kernelspec": {
   "display_name": "Python 3",
   "language": "python",
   "name": "python3"
  },
  "language_info": {
   "name": "python",
   "version": ""
  }
 },
 "nbformat": 4,
 "nbformat_minor": 2
}
